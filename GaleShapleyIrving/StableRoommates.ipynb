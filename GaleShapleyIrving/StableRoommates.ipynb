{
  "nbformat": 4,
  "nbformat_minor": 0,
  "metadata": {
    "colab": {
      "name": "StableRoommates.ipynb",
      "provenance": []
    },
    "kernelspec": {
      "name": "python3",
      "display_name": "Python 3"
    }
  },
  "cells": [
    {
      "cell_type": "code",
      "metadata": {
        "id": "stJ8zj6EBGdx"
      },
      "source": [
        "import random\n",
        "import statistics as std\n",
        "import matplotlib.pyplot as plt"
      ],
      "execution_count": 1,
      "outputs": []
    },
    {
      "cell_type": "code",
      "metadata": {
        "id": "JYr4QReXErWf"
      },
      "source": [
        "def createPreference(N):\n",
        "  prefer = []\n",
        "  for i in range(1, 2*N+1):\n",
        "    preference = []\n",
        "    while (len(preference) < N):\n",
        "      k = random.randint(1, N)\n",
        "      if k in preference:\n",
        "        continue\n",
        "      preference.append(k)\n",
        "    prefer.append(preference)\n",
        "  return prefer"
      ],
      "execution_count": 2,
      "outputs": []
    },
    {
      "cell_type": "code",
      "metadata": {
        "id": "4o32cyL_VCim"
      },
      "source": [
        "# This function returns true if \n",
        "# woman 'w' prefers man 'm1' over man 'm' \n",
        "def wPrefersM1OverM(prefer, w, m, m1, N): \n",
        "\t\n",
        "  for i in range(N):\n",
        "\t  if (prefer[w][i] == m1): \n",
        "\t    return True\n",
        "\n",
        "\t\t# If m cmes before m1 in w's list, \n",
        "\t\t# then free her current engagement \n",
        "\t\t# and engage her with m \n",
        "\t  if (prefer[w][i] == m): \n",
        "\t\t  return False\n",
        "\n",
        "# Prints stable matching for N boys and N girls. \n",
        "# Boys are numbered as 0 to N-1. \n",
        "# Girls are numbereed as N to 2N-1. \n",
        "def stableMarriage(prefer, N):\n",
        "  wPartner = [-1 for i in range(N)]\n",
        "  count = 0\n",
        "\n",
        "\t# An array to store availability of men. \n",
        "\t# If mFree[i] is false, then man 'i' is free, \n",
        "\t# otherwise engaged. \n",
        "  mFree = [False for i in range(N)] \n",
        "\n",
        "  freeCount = N \n",
        "\n",
        "\t# While there are free men \n",
        "  while (freeCount > 0): \n",
        "\t\t\n",
        "\t\t# Pick the first free man (we could pick any) \n",
        "    m = 0\n",
        "    while (m < N): \n",
        "      if (mFree[m] == False): \n",
        "        break\n",
        "      m += 1\n",
        "\n",
        "\t\t# One by one go to all women according to \n",
        "\t\t# m's preferences. Here m is the picked free man \n",
        "    i = 0\n",
        "    while i < N and mFree[m] == False:\n",
        "      w = prefer[m][i] \n",
        "\n",
        "\t\t\t# The woman of preference is free, \n",
        "\t\t\t# w and m become partners (Note that \n",
        "\t\t\t# the partnership maybe changed later). \n",
        "\t\t\t# So we can say they are engaged not married \n",
        "      if (wPartner[w - N] == -1): \n",
        "        wPartner[w - N] = m \n",
        "        mFree[m] = True\n",
        "        freeCount -= 1\n",
        "        count += 1\n",
        "\n",
        "      else: \n",
        "\t\t\t\t\n",
        "\t\t\t\t# If w is not free \n",
        "\t\t\t\t# Find current engagement of w \n",
        "        m1 = wPartner[w - N] \n",
        "\n",
        "        count += 1\n",
        "\t\t\t\t# If w prefers m over her current engagement m1, \n",
        "\t\t\t\t# then break the engagement between w and m1 and \n",
        "\t\t\t\t# engage m with w. \n",
        "        if (wPrefersM1OverM(prefer, w, m, m1, N) == False):\n",
        "          wPartner[w - N] = m \n",
        "          mFree[m] = True\n",
        "          mFree[m1] = False\n",
        "      i += 1\n",
        "\n",
        "\t\t\t# End of Else \n",
        "\t\t# End of the for loop that goes \n",
        "\t\t# to all women in m's list \n",
        "\t# End of main while loop \n",
        "\n",
        "\t# Prthe solution \n",
        "  #print(\"Woman \", \" Man\") \n",
        "  #for i in range(N): \n",
        "   # print(i + N, \"\\t\", wPartner[i])\n",
        "  return count"
      ],
      "execution_count": 3,
      "outputs": []
    },
    {
      "cell_type": "markdown",
      "metadata": {
        "id": "dnSv3B5gvECy"
      },
      "source": [
        "for $n=4$"
      ]
    },
    {
      "cell_type": "code",
      "metadata": {
        "colab": {
          "base_uri": "https://localhost:8080/",
          "height": 317
        },
        "id": "SwZw0lNcuZeG",
        "outputId": "70a738c4-284d-451e-c025-5a14eae32ed2"
      },
      "source": [
        "N = 4\n",
        "count = []\n",
        "for i in range(100):\n",
        "  prefer = createPreference(N)\n",
        "  count.append(stableMarriage(prefer, N))\n",
        "\n",
        "contador = []\n",
        "for i in range(N, N**2 + 1):\n",
        "  contador.append(count.count(i))\n",
        "\n",
        "k = len(contador) - 1\n",
        "while k >= 0:\n",
        "  if contador[k] == 0:\n",
        "    contador.pop(k)\n",
        "  k -= 1\n",
        "\n",
        "count = list(set(count))\n",
        "\n",
        "chart = plt.bar(count,contador,align='center',alpha=0.5)\n",
        "plt.show()\n",
        "print('max', max(count))\n",
        "print('min', min(count))\n",
        "print('mean', std.mean(count))\n"
      ],
      "execution_count": 4,
      "outputs": [
        {
          "output_type": "display_data",
          "data": {
            "image/png": "[encoded data removed]",
            "text/plain": [
              "<Figure size 432x288 with 1 Axes>"
            ]
          },
          "metadata": {
            "tags": [],
            "needs_background": "light"
          }
        },
        {
          "output_type": "stream",
          "text": [
            "max 15\n",
            "min 4\n",
            "mean 9.5\n"
          ],
          "name": "stdout"
        }
      ]
    },
    {
      "cell_type": "markdown",
      "metadata": {
        "id": "nySQ4RaAvM1B"
      },
      "source": [
        "for $n = 40$"
      ]
    },
    {
      "cell_type": "code",
      "metadata": {
        "colab": {
          "base_uri": "https://localhost:8080/",
          "height": 317
        },
        "id": "tejaNO30vV1w",
        "outputId": "480389cf-0b13-450a-9cfd-6cb508264465"
      },
      "source": [
        "N = 40\n",
        "count = []\n",
        "for i in range(100):\n",
        "  prefer = createPreference(N)\n",
        "  count.append(stableMarriage(prefer, N))\n",
        "\n",
        "contador = []\n",
        "for i in range(N, N**2 + 1):\n",
        "  contador.append(count.count(i))\n",
        "\n",
        "k = len(contador) - 1\n",
        "while k >= 0:\n",
        "  if contador[k] == 0:\n",
        "    contador.pop(k)\n",
        "  k -= 1\n",
        "  \n",
        "count = list(set(count))\n",
        "\n",
        "chart = plt.bar(count,contador,align='center',alpha=0.5)\n",
        "plt.show()\n",
        "print('max', max(count))\n",
        "print('min', min(count))\n",
        "print('mean', std.mean(count))"
      ],
      "execution_count": 5,
      "outputs": [
        {
          "output_type": "display_data",
          "data": {
            "image/png": "[encoded data removed]",
            "text/plain": [
              "<Figure size 432x288 with 1 Axes>"
            ]
          },
          "metadata": {
            "tags": [],
            "needs_background": "light"
          }
        },
        {
          "output_type": "stream",
          "text": [
            "max 440\n",
            "min 126\n",
            "mean 230.14473684210526\n"
          ],
          "name": "stdout"
        }
      ]
    }
  ]
}