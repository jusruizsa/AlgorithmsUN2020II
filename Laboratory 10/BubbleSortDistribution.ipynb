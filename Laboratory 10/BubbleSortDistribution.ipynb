{
  "nbformat": 4,
  "nbformat_minor": 0,
  "metadata": {
    "colab": {
      "name": "BubbleSortDistribution.ipynb",
      "provenance": []
    },
    "kernelspec": {
      "name": "python3",
      "display_name": "Python 3"
    }
  },
  "cells": [
    {
      "cell_type": "markdown",
      "metadata": {
        "id": "O2OlMc0P_4nF"
      },
      "source": [
        "#Bubble Sort Distribution"
      ]
    },
    {
      "cell_type": "code",
      "metadata": {
        "id": "oPSD4W6An53o"
      },
      "source": [
        "import itertools as iter\r\n",
        "import random\r\n",
        "import matplotlib.pyplot as plt\r\n",
        "import numpy as np\r\n",
        "%matplotlib inline\r\n",
        "#global t\r\n",
        "\r\n",
        "def bubbleSort(v):\r\n",
        "  pasos = 0#len(v)-1\r\n",
        "  for i in range(len(v)):\r\n",
        "    for j in range(len(v)-1,i,-1):\r\n",
        "      if v[j]<v[j-1]:\r\n",
        "        temp = v[j-1]\r\n",
        "        v[j-1] = v[j]\r\n",
        "        v[j] = temp\r\n",
        "        pasos += 1\r\n",
        "      pasos += 1\r\n",
        "\r\n",
        "  return pasos\r\n",
        "v = [1,2,3]\r\n",
        "#print(bubbleSort(v))\r\n",
        "\r\n",
        "def perm(v):\r\n",
        "  t=[]\r\n",
        "  x = range(1,v+1)\r\n",
        "  list(x)\r\n",
        "  permuta = iter.permutations(x)\r\n",
        "  for i in permuta:\r\n",
        "    xx = list(i)\r\n",
        "    t.append(xx)\r\n",
        "  return t\r\n",
        "def grafi(v):\r\n",
        "  lista3 =[]\r\n",
        "\r\n",
        "  lista =[0]*51\r\n",
        "  promedio = 0\r\n",
        "  for i in (v):\r\n",
        "    k = bubbleSort(i)\r\n",
        "    lista[k]+=1\r\n",
        "    promedio+=k\r\n",
        "    lista3.append(k)\r\n",
        "  print(\"El promedio del numero de pasos es : \",promedio/len(v))\r\n",
        "  lista2=[]\r\n",
        "  lista4=[]\r\n",
        "\r\n",
        "  for j in range(len(lista)):\r\n",
        "    if lista[j]!=0 :\r\n",
        "      lista2.append(lista[j]/len(v))\r\n",
        "      lista4.append(j)\r\n",
        "      print(\"P(\",j,\") = \",lista[j]/len(v))\r\n",
        "\r\n",
        "  height = lista2\r\n",
        "  bars = lista4\r\n",
        "  y_pos = np.arange(len(bars))\r\n",
        " \r\n",
        "# Create bars\r\n",
        "  plt.bar(y_pos, height)\r\n",
        " \r\n",
        "# Create names on the x-axis\r\n",
        "  plt.xticks(y_pos, bars)\r\n",
        " \r\n",
        "# Show graphic\r\n",
        "  plt.show()\r\n",
        "    "
      ],
      "execution_count": 1,
      "outputs": []
    },
    {
      "cell_type": "code",
      "metadata": {
        "colab": {
          "base_uri": "https://localhost:8080/",
          "height": 647
        },
        "id": "wc6edbIKv2GC",
        "outputId": "ae0d514b-f80a-4823-e083-970ec937fbdc"
      },
      "source": [
        "grafi(perm(7))"
      ],
      "execution_count": 7,
      "outputs": [
        {
          "output_type": "stream",
          "text": [
            "El promedio del numero de pasos es :  31.5\n",
            "P( 21 ) =  0.0001984126984126984\n",
            "P( 22 ) =  0.0011904761904761906\n",
            "P( 23 ) =  0.003968253968253968\n",
            "P( 24 ) =  0.009722222222222222\n",
            "P( 25 ) =  0.019444444444444445\n",
            "P( 26 ) =  0.03353174603174603\n",
            "P( 27 ) =  0.05138888888888889\n",
            "P( 28 ) =  0.07123015873015873\n",
            "P( 29 ) =  0.09027777777777778\n",
            "P( 30 ) =  0.10535714285714286\n",
            "P( 31 ) =  0.11369047619047619\n",
            "P( 32 ) =  0.11369047619047619\n",
            "P( 33 ) =  0.10535714285714286\n",
            "P( 34 ) =  0.09027777777777778\n",
            "P( 35 ) =  0.07123015873015873\n",
            "P( 36 ) =  0.05138888888888889\n",
            "P( 37 ) =  0.03353174603174603\n",
            "P( 38 ) =  0.019444444444444445\n",
            "P( 39 ) =  0.009722222222222222\n",
            "P( 40 ) =  0.003968253968253968\n",
            "P( 41 ) =  0.0011904761904761906\n",
            "P( 42 ) =  0.0001984126984126984\n"
          ],
          "name": "stdout"
        },
        {
          "output_type": "display_data",
          "data": {
            "image/png": "[encoded data removed]",
            "text/plain": [
              "<Figure size 432x288 with 1 Axes>"
            ]
          },
          "metadata": {
            "tags": [],
            "needs_background": "light"
          }
        }
      ]
    }
  ]
}